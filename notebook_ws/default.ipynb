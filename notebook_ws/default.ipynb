{
 "cells": [
  {
   "cell_type": "markdown",
   "metadata": {},
   "source": [
    "<div class=\"jumbotron m-0\">\n",
    "    <hr />\n",
    "    <h1 class=\"text-center\">\n",
    "        <span class=\"text-primary\">ROS 2 Navigation in 5 Days\n",
    "        </span>\n",
    "    </h1>\n",
    "    <hr />\n",
    "</div>"
   ]
  },
  {
   "cell_type": "markdown",
   "metadata": {},
   "source": [
    "<img src=\"images/ros2_nav_details.png\"/>"
   ]
  },
  {
   "cell_type": "markdown",
   "metadata": {},
   "source": [
    "<div class=\"bg-primary text-center\">\n",
    "    - Summary -\n",
    "</div>"
   ]
  },
  {
   "cell_type": "markdown",
   "metadata": {},
   "source": [
    "In this rosject, you will apply everything you've learned in the ROS2 Navigation course to a TurtleBot3 real robot.\n",
    "\n",
    "You will practice with a Turtlebot3 robot, in both **the simulation** and **the real one**. \n",
    "\n",
    "* You will launch the simulation here, in this rosject\n",
    "* You will connect to the real robot remotely, also from this rosject\n",
    "\n",
    "More instructions below."
   ]
  },
  {
   "cell_type": "markdown",
   "metadata": {},
   "source": [
    "<div class=\"bg-primary text-center\">\n",
    "    - End of Summary -\n",
    "</div>"
   ]
  },
  {
   "cell_type": "markdown",
   "metadata": {},
   "source": [
    "![sima_and_real](images/sim_and_real_lab.png)"
   ]
  },
  {
   "cell_type": "markdown",
   "metadata": {},
   "source": [
    "Things to remember:\n",
    "* Create your packages and code in the simulation environment as you have been doing throughout the course.\n",
    "* Use the consoles to gather information about the status of the simulated and real robot.\n",
    "* Use the IDE to create your files and execute them through the consoles, observing the results on the simulation screen. You can use other consoles to watch calls to topics, services, or action servers.\n",
    "* Everything that you create in this unit will be automatically saved in your space. You can come back to this unit at any time and continue with your work from the point where you left off.\n",
    "* Every time you need to reset the position of the robot, just press the restart button in the simulation window. \n",
    "* Use the debugging tools to try to find what is not working and why (for instance, the Rviz tool is very useful for this purpose)."
   ]
  },
  {
   "cell_type": "markdown",
   "metadata": {},
   "source": [
    "<div>\n",
    "    <h1 class=\"text-center\">\n",
    "        <span class=\"text-primary\">0</span>\n",
    "        &nbsp;\n",
    "        <span class=\"\">Launch the simulation</span>\n",
    "    </h1>\n",
    "</div>"
   ]
  },
  {
   "cell_type": "markdown",
   "metadata": {},
   "source": [
    "You should use the simulation to test your code while you try to get the project's exercises done.\n",
    "\n",
    "To launch the simulation, do the following:\n",
    "\n",
    "1. Open a terminal by pressing on the *terminal icon* on the bottom left side of the screen:\n",
    "<img src=\"images/open_terminal_superapp.png\"/>\n",
    "2. Type the following command that launches the simulation"
   ]
  },
  {
   "cell_type": "code",
   "execution_count": null,
   "metadata": {},
   "outputs": [],
   "source": [
    "source ~/simulation_ws/install/setup.bash\n",
    "ros2 launch turtlebot3_gazebo main_turtlebot3_lab.launch.xml"
   ]
  },
  {
   "cell_type": "markdown",
   "metadata": {},
   "source": [
    "3. To see the simulation, press the Gazebo button on the bottom left side of the screen, and select *Open gazebo*:\n",
    "<img src=\"images/gazebo_superapp.png\"/>\n",
    "\n",
    "**Wait about 30 seconds maximum** for the simulation to appear in the Gazebo window.\n",
    "\n",
    "<img src=\"images/new_sim.png\"/>\n"
   ]
  },
  {
   "cell_type": "markdown",
   "metadata": {},
   "source": [
    "## How this rosject works"
   ]
  },
  {
   "cell_type": "markdown",
   "metadata": {},
   "source": [
    "### TurtleBot3 Topics\n",
    "\n",
    "**Sensors**\n",
    "* Laser sensor: This TurtleBot3 has an RPLIDAR, which provides information about the objects that it detects in its range. The value of the sensor is provided through the topic `/scan`.\n",
    "* Odometry: The odometry of the robot can be accessed through the `/odom` topic.\n",
    "\n",
    "**Actuators**\n",
    "* Speed: You can send speed commands to move the robot through the topic `/cmd_vel`."
   ]
  },
  {
   "cell_type": "markdown",
   "metadata": {},
   "source": [
    "## How to Proceed\n",
    "\n",
    "This rosject is composed of five sections and an Appendix, explaining how to connect to the real robot. You should do the first four sections when the ROS Navigation in 5 Days course indicates it. These steps will ensure that you have practiced and created all of the structures asked about in the final presentation of this course. \n",
    "\n",
    "* **SECTION I:** Create a map of the environment\n",
    "* **SECTION II:** Localize the robot\n",
    "* **SECTION III:** Create a Path Planning System\n",
    "* **SECTION IV:** Create a ROS program that interacts with the Navigation Stack\n",
    "* **SECTION V:** Book a date to present the rosject on YouTube and share it on LinkedIn or social networks (Optional)\n",
    "\n",
    "Go to the section that the course indicates and try to finish it. Before doing that, **launch the rosject simulation**. You will use this simulation to practice with the simulated environment."
   ]
  },
  {
   "cell_type": "markdown",
   "metadata": {},
   "source": [
    "<div>\n",
    "    <h1 class=\"text-center\">\n",
    "        <span class=\"text-primary\">Section 1</span>\n",
    "        &nbsp;\n",
    "        <span class=\"\">Mapping\n",
    "    </h1>\n",
    "</div>"
   ]
  },
  {
   "cell_type": "markdown",
   "metadata": {},
   "source": [
    "As you've learned in the first 2 chapters of the course, the first thing you need in order to navigate autonomously with a robot is a map of the environment. Where else would this project start?\n",
    "\n",
    "In this section, you will practice how to map the environment around the robot. Your goal is to save this map file in order to use it for localization and navigation.\n",
    "\n",
    "We divide this into 7 steps:\n",
    "\n",
    "1. Make sure that the TurtleBot3 robot is publishing its **transform data** correctly.\n",
    "2. Create a package called `/project_mapping` that will contain all of the files related to mapping.\n",
    "3. Create a launch file that will launch the `cartographer_node` and add the necessary **parameters** in order to properly configure the slam_gmapping node.\n",
    "4. Launch the `cartographer_node` and **create a map** of the simulated environment while tele-operating the robot.\n",
    "5. **Save the map** that you've just created by creating a launch file for the `map_saver` node.\n",
    "7. Create a **launch file** that will provide the created map to other nodes.\n",
    "\n",
    "So, let's go!\n",
    "\n",
    "**1. Generate Files to Visualize the TF Frame Tree**\n",
    "\n",
    "You should get a TF tree like this one:\n",
    "\n",
    "<img src=\"images/turtlebot_tf_tree.png\"/> \n",
    "\n",
    "Pay close attention to the important frames, you'll use them later.\n",
    "\n",
    "**2. Create a package called `project_mapping` in `ros2_ws`.**\n",
    "\n",
    "If you don't specify, it will build a `ament-cmake` package by default. \n",
    "\n",
    "**3. Create the launch file for the `cartographer_node` with its configuration file.**\n",
    "\n",
    "In Unit 2 of the ROS2 Navigation course, we learned how to create a launch file for the cartographer. "
   ]
  },
  {
   "cell_type": "markdown",
   "metadata": {},
   "source": [
    "**4. Launch the node using the launch file that you've just created, and create a map of the environment.**\n",
    "\n",
    "In order to move the robot around the environment, you can use the keyboard teleop. To launch the keyboard teleop, just execute the following command:"
   ]
  },
  {
   "cell_type": "code",
   "execution_count": null,
   "metadata": {},
   "outputs": [],
   "source": [
    "ros2 run teleop_twist_keyboard teleop_twist_keyboard"
   ]
  },
  {
   "cell_type": "markdown",
   "metadata": {},
   "source": [
    "**IMPORTANT:** remember that in order to be able to move the robot with the keys, the terminal with the `teleop_keyboard` **has to have the focus**."
   ]
  },
  {
   "cell_type": "markdown",
   "metadata": {},
   "source": [
    "Also, remember to launch rviz and add the proper displays in order to visualize the map you are generating. You should get something like this in rviz:\n",
    "\n",
    "<img src=\"images/RRL_nav_mapping_small.png\"/>\n",
    "\n",
    "Now, start moving the robot around to create the map. What's happening? Are you having difficulty generating a proper map? Is there anything strange in the mapping process? Do you know what could be the reason behind it?\n",
    "\n",
    "What's happening here is the following:\n",
    "\n",
    "* Your *TRAJECTORY_BUILDER_2D.max_range* parameter in the `cartographer.lua` configuration file is set to 0.5. This parameter sets the maximum range of the laser scanner that is used for map building. Since this is a small value, the robot can't get enough data to know where it is, so it may get lost. This will cause some strange issues during the mapping process, such as the robot readjusting its position incorrectly.\n",
    "* In order to solve it, you should set the *TRAJECTORY_BUILDER_2D.max_range* parameter to some higher value, for instance, 3.5. This way, the robot will be able to get more data from the environemnt, so that it won't get lost. Now, you'll be able to finalize the mapping process correctly.\n",
    "\n",
    "Once you modify this parameter and relaunch the mapping node, you should get something like this in rviz:\n",
    "\n",
    "<img src=\"images/RRL_nav_mapping.png\"/>\n",
    "\n",
    "Now, you will be able to map the environment much more easily.\n",
    "\n",
    "**5. Save the Map.**\n",
    "\n",
    "Create a directory in your package named maps, and save the map files there. Your map image file should look something similar to this:\n",
    "\n",
    "<img src=\"images/map.png\"/>"
   ]
  },
  {
   "cell_type": "markdown",
   "metadata": {},
   "source": [
    "**6. Create a launch file where you provide the map to the `map_server` node.**\n",
    "\n",
    "As you've also seen in the course, the map you've just created will be used by other nodes (this means, it'll be used in further steps) in order to perform navigation.\n",
    "\n",
    "Therefore, you'll need to create a launch file in order to provide the map. As you know, this is done through the `nav2_map_server` node.\n",
    "\n",
    "Finally, launch this file and check that it's really providing the map."
   ]
  },
  {
   "cell_type": "markdown",
   "metadata": {},
   "source": [
    "<div>\n",
    "    <h1 class=\"text-center\">\n",
    "        <span class=\"text-primary\">Section 2</span>\n",
    "        &nbsp;\n",
    "        <span class=\"\">Localization\n",
    "    </h1>\n",
    "</div>"
   ]
  },
  {
   "cell_type": "markdown",
   "metadata": {},
   "source": [
    "In this section, you will localize the robot using the `amcl` node. This section has 3 steps:\n",
    "\n",
    "1. Create a package called `project_localization` that will contain all of the files related to localization.\n",
    "2. Create a **launch file** that will launch the `amcl` node and add the necessary parameters in order to properly configure the `amcl` node.\n",
    "3. Launch the node and check that the robot properly localizes itself in the environment.\n",
    "\n",
    "**1. Create a package called `project_localization`**\n",
    "\n",
    "If you don't specify, it will build an `ament-cmake` package by default.\n",
    "\n",
    "**2. Create a launch file for the `amcl` node**\n",
    "\n",
    "In the localization section (Chapter 3) of this course, you saw how to create a launch file for the `amcl` node. You've also seen some of the most important parameters to set. So, in this step, you'll have to create a launch file for the amcl node and add the parameters you think you need to set.\n",
    "\n",
    "Remember that before setting the amcl node parameters, you'll need to load the map created in Section 1. For that, you'll just need to include the launch you've created in Section 1 in the amcl node launch file in order to provide the map to other nodes."
   ]
  },
  {
   "cell_type": "markdown",
   "metadata": {},
   "source": [
    "**3. Launch the node and check that the TurtleBot3 robot correctly localizes itself in the map.**\n",
    "\n",
    "Launch the node and check in rviz that the TurtleBot3 robot correctly localizes itself in the map.\n",
    "\n",
    "In order to check that the localization works fine, move the robot around the environment and check that the particle cloud keeps getting smaller the more you move the robot. If you've done all of the previous steps correctly, you should see something like this in rviz:\n",
    "\n",
    "Dispersed particles:\n",
    "\n",
    "<img src=\"images/RRL_nav_amcl_spread.png\"/>\n",
    "\n",
    "Grouped particles:\n",
    "\n",
    "<img src=\"images/RRL_nav_amcl_tight.png\"/>\n",
    "\n",
    "**4. Create the spots table.**\n",
    "\n",
    "Once you've checked that localization is working fine, you'll need to create a table with 3 different spots in the environemnt. For each point, assign a tag (with the name of the spot) alongside its coordinates in the map.\n",
    "\n",
    "These are the 3 spots that you'll have to register in the table:\n",
    "\n",
    "\n",
    "\n",
    "You can access the coordinates of each position by looking into the topics that the `amcl` node publishes on. The only data that you really need to save are the position and orientation.\n",
    "\n",
    "Next, you have a screenshot of the `/amcl_pose` topic:\n",
    "\n",
    "<img src=\"images/amcl_pose.png\"/>\n",
    "\n",
    "Create a file named `spots.yaml` and write in the pose data that you've gotten from the 3 spots.\n",
    "\n",
    "**5. Create a service that saves these spots into a file.**\n",
    "\n",
    "In the previous section, you created a file with the coordinates of the 3 spots. But, the whole process was too cumbersome, don't you think? Why don't we create a ROS Service that does the work for us? Sounds like a good idea, right? Then, let's do it!\n",
    "\n",
    "So, now you'll create a program that will do the following:\n",
    "\n",
    "* It will launch a node named **`spot_recorder`**.\n",
    "* This node will contain a service server named **`/save_spot`** that will take a string as input\n",
    "* When this service is called, it will store the current coordinates of the robot (position and orientation values) with a label that will be the string provided on the service.\n",
    "* When the end string is provided in the service call, the node will write all of the values stored into a file named **`spots.txt`**.\n",
    "* Finally, the service will return a message indicating if the file has been saved correctly.\n",
    "\n",
    "In order to achieve this, let's divide it into smaller parts.\n",
    "\n",
    "#### 5.1. Service Message\n",
    "\n",
    "First of all, you'll have to determine the kind of data you need for your service message.\n",
    "\n",
    "* Determine what input data you need ( <span class=\"ign_blue\">**request**</span> )\n",
    "* Determine what data you want the service to return ( <span class=\"ign_blue\">**response**</span> )\n",
    "\n",
    "Next, see if there is an already-built message in the system that suits your needs. If there isn't, then you'll have to create your own custom message with the data you want.\n",
    "\n",
    "If this is the case, then do the following. Inside the package you just created, create a new directory named **`/srv`**. Inside this directory, create a file named **`MyServiceMessage.srv`** that will contain the definition of your service message. \n",
    "\n",
    "This file could be something like this:"
   ]
  },
  {
   "cell_type": "code",
   "execution_count": null,
   "metadata": {},
   "outputs": [],
   "source": [
    "# request\n",
    "string label\n",
    "---\n",
    "#response\n",
    "bool navigation_successfull\n",
    "string message"
   ]
  },
  {
   "cell_type": "markdown",
   "metadata": {},
   "source": [
    "Now, you'll have to modify the packages in your workspace in order for the system to find the service you have created."
   ]
  },
  {
   "cell_type": "markdown",
   "metadata": {},
   "source": [
    "When you've finished with the modifications, compile your package and check that your message has been correctly compiled and is ready to use. In order to check this, you can use the command:"
   ]
  },
  {
   "cell_type": "code",
   "execution_count": null,
   "metadata": {},
   "outputs": [],
   "source": [
    "ros2 service list"
   ]
  },
  {
   "cell_type": "markdown",
   "metadata": {},
   "source": [
    "#### 5.2. Service Code\n",
    "\n",
    "Once your message is created, you're ready to use it in your service! So, let's write the code for our service. Create a file named **`spots_to_file.py`**. Inside this file, write the code necessary for your service.\n",
    "\n",
    "#### 5.3. Launch File\n",
    "Create a launch file for the node you've just created. You can also launch this node in the same launch file you've created to launch the mapping node. It's up to you.\n",
    "\n",
    "#### 5.4. Test it\n",
    "Using the keyboard teleop, move the robot to the 3 different spots shown above. At each one of these spots, perform a service call to the service you've just created. In the service call, provide the string with the name that you want to give to each spot.\n",
    "\n",
    "For example, when you are at the bottom left corner of the lab, call your service like this:"
   ]
  },
  {
   "cell_type": "code",
   "execution_count": null,
   "metadata": {},
   "outputs": [],
   "source": [
    "ros2 service call /record_spot \"label: corner1\""
   ]
  },
  {
   "cell_type": "markdown",
   "metadata": {},
   "source": [
    "Repeat this for each of the 3 spots. When finished, do one last service call, providing *end* as the string in order to create the file."
   ]
  },
  {
   "cell_type": "markdown",
   "metadata": {},
   "source": [
    "<div>\n",
    "    <h1 class=\"text-center\">\n",
    "        <span class=\"text-primary\">Section 3</span>\n",
    "        &nbsp;\n",
    "        <span class=\"\">Path Planning System\n",
    "    </h1>\n",
    "</div>"
   ]
  },
  {
   "cell_type": "markdown",
   "metadata": {},
   "source": [
    "In this section, you will create a path planning system using `Nav2` in order to navigate autonomously. This section has 4 actions for you to take:\n",
    "\n",
    "* Create a package called **`project_path_planning`** that will contain all of the files related to Path Planning.\n",
    "* Create a **launch file** that will launch all of the nodes required for path planning.\n",
    "* Create the necessary parameter files in order to properly configure the `controller_server`, `planner_server`, `recoveries_server` and `bt_navigator` nodes.\n",
    "* Launch the node and check that everything works as expected."
   ]
  },
  {
   "cell_type": "markdown",
   "metadata": {},
   "source": [
    "**1. Create a package named `project_path_planning`.**\n",
    "\n",
    "**2. Create the launch file for the `controller_server`, `planner_server`, `behavior_server` and `bt_navigator` nodes.**\n",
    "\n",
    "Now we need to add the following nodes to the launch file, created in the previous step:\n",
    "* controller_server\n",
    "* planner_server\n",
    "* behavior_server\n",
    "* bt_navigator"
   ]
  },
  {
   "cell_type": "markdown",
   "metadata": {},
   "source": [
    "**3. Create the `project_params.yaml` file**"
   ]
  },
  {
   "cell_type": "markdown",
   "metadata": {},
   "source": [
    "**4. Run launch file and navigate with `rviz2`**\n",
    "\n",
    "Run the launch file and send navigation goals to the robot in `rviz2` to verify everything is working as expected."
   ]
  },
  {
   "cell_type": "markdown",
   "metadata": {},
   "source": [
    "<div>\n",
    "    <h1 class=\"text-center\">\n",
    "        <span class=\"text-primary\">Section 4</span>\n",
    "        &nbsp;\n",
    "        <span class=\"\">Create ROS 2 node that interacts with Nav2\n",
    "    </h1>\n",
    "</div>"
   ]
  },
  {
   "cell_type": "markdown",
   "metadata": {},
   "source": [
    "By this point, you have a working Navigation system on your robot. Now the next step is to make programs that interact with Nav2. \n",
    "\n",
    "In this step, we will create programs that will give commands to the robot. \n",
    "\n",
    "1. Create a spot recorder script.\n",
    "2. Format the parameter file.\n",
    "3. Create a script that makes the robot move to the given spot. \n",
    "\n",
    "\n",
    "**1. Create a spot recorder script.**\n",
    "\n",
    "Earlier in this project, we created a map of the environment, but still we don't know the coordinates of any location on the map. \n",
    "\n",
    "To get to know the location of a point on the map, we will create a script that will save the location of a marked point from Rviz to the YAML file.\n",
    "\n",
    "For that, we will subscribe to the `/initialpose` topic so that we can get the position and orientation of the robot at the spot. \n",
    "\n",
    "There are 3 spots you need to record for this project:\n",
    "\n",
    "Fetch first corner (**`label: corner1`**):\n",
    "\n",
    "<img src=\"images/corner1.png\"/>\n",
    "\n",
    "Fetch second corner (**`label: corner2`**):\n",
    "\n",
    "<img src=\"images/corner2.png\"/>\n",
    "\n",
    "Fetch pedestrian cross (**`label: pedestrian`**):\n",
    "\n",
    "<img src=\"images/pedestrian.png\"/>\n",
    "\n",
    "To record, you should start only the `map_server` node and `rviz2`, then select `2D_Pose_Estimate` to mark the location.\n"
   ]
  },
  {
   "cell_type": "markdown",
   "metadata": {},
   "source": [
    "**2. Format the parameter file.**\n",
    "\n",
    "In the step above, we have created a `.yaml` file that can be used to pass parameters to the `ros-parameter-server`, but we need to format it a bit according to the required minimal structure for ROS2 before we can use it as a parameter file. \n",
    "\n",
    "You need to add `node_name` & `ros__parameters` to the file. \n",
    "\n",
    "You need to update the name of the spot \n",
    "<div class=\"bg-info text-center\">\n",
    "    - Notes -\n",
    "</div> \n",
    "\n",
    "* Here is the structure of the ROS parameter file. "
   ]
  },
  {
   "cell_type": "code",
   "execution_count": null,
   "metadata": {},
   "outputs": [],
   "source": [
    "node_1:\n",
    "  ros__parameters:\n",
    "    parameter_name: \"abc\"\n",
    "node_2:\n",
    "  ros__parameters:\n",
    "    nested_parameter: \n",
    "        parameter_name: 45.2\n",
    "node_3:\n",
    "  ros__parameters:\n",
    "    parameter_name: 45\n",
    "    nested_parameter:\n",
    "        parameter_name: value"
   ]
  },
  {
   "cell_type": "markdown",
   "metadata": {},
   "source": [
    "**3. Create a script that moves the robot to a given spot.**\n",
    "\n",
    "In this step, we will create a script that will take input from the `spot-list` & `spot-name`, so it can make the robot move to the desired spot on the map. \n",
    "\n",
    "Here we will make the action client for the `NavigateToPose` action, which will read the point location from the `spot-list.yaml` and move the robot to the desired spot, which is given as a parameter `spot-name`.\n"
   ]
  },
  {
   "cell_type": "markdown",
   "metadata": {},
   "source": [
    "<div class=\"bg-info text-center\">\n",
    "    - Notes -\n",
    "</div> \n",
    "\n",
    "* The node name should be the same, i.e. `move_to_spot`, in the parameter file and in the action client.\n",
    "\n",
    "* To run this file, you need to add them to `setup.py`\n",
    "\n",
    "<div class=\"bg-info text-center\">\n",
    "    - End of Notes -\n",
    "</div> "
   ]
  },
  {
   "cell_type": "markdown",
   "metadata": {},
   "source": [
    "Run this command to launch the action client to move to your desired pose. "
   ]
  },
  {
   "cell_type": "code",
   "execution_count": null,
   "metadata": {},
   "outputs": [],
   "source": [
    "ros2 run nav2_project go_to_pose --ros-args --params-file spot-list.yaml -p spot_name:=corner1"
   ]
  },
  {
   "cell_type": "markdown",
   "metadata": {},
   "source": [
    "<div>\n",
    "    <h1 class=\"text-center\">\n",
    "        <span class=\"text-primary\">Section 5</span>\n",
    "        &nbsp;\n",
    "        <span class=\"\">Book a date to present the rosject on YouTube\n",
    "    </h1>\n",
    "</div>"
   ]
  },
  {
   "cell_type": "markdown",
   "metadata": {},
   "source": [
    "### Presentation\n",
    "\n",
    "An important part of your learning is to show others what you have learned. To get the most out of this course, you should deliver a live presentation of your rosject. \n",
    "\n",
    "If you want to take this brave step, contact us at info@theconstructsim.com to request a presentation and we will agree on the day and time.\n",
    "\n",
    "**You will have to:**\n",
    "\n",
    "1. Prepare your presentation. Explain your rosject in 20 minutes, how you solved it and how it works.\n",
    "2. On the day agreed, you will need to have a camera and mic ready.\n",
    "3. We will contact you on the day and prepare the broadcast. We will handle everything, you only need to be ready to present.\n",
    "\n",
    "The event will broadcast on YouTube so anyone in the world can attend and watch your presentation!"
   ]
  },
  {
   "cell_type": "markdown",
   "metadata": {},
   "source": [
    "<div>\n",
    "    <h1 class=\"text-center\">\n",
    "        <span class=\"text-primary\">Appendix</span>\n",
    "        &nbsp;\n",
    "        <span class=\"\">Connect to the Real Robot\n",
    "    </h1>\n",
    "</div>"
   ]
  },
  {
   "cell_type": "markdown",
   "metadata": {},
   "source": [
    "Once you know the basics of the operation with the simulation, it's time to use the real TurtleBot3 robot.\n",
    "\n",
    "### Step 1: Book a Session\n",
    "In the main dashboard, you can book a session by clicking on this icon:\n",
    "\n",
    "<img src=\"images/reallab.png\"/>\n",
    "\n",
    "A booking page will appear where you can do two things:\n",
    "* Check your bookings\n",
    "<img src=\"images/bookassession.png\"/>\n",
    "* Make a new booking\n",
    "<img src=\"images/bookings.png\"/>\n",
    "You can also click on the **BOOK A SESSION** button to make a new one, which will take you to a menu, where you will select:\n",
    "* The **Type of Robot** you want to book. For the moment, only TurtleBot3 is available.\n",
    "* The Date and Time for your reservation.\n",
    "<img src=\"images/make_reservation_2.png\"/>\n",
    "\n",
    "The **date and times shown are the ones available.** They come in **25 minute slots.** There is also a limitation on the number of bookings per week a user can make. This depends on your particular license and subscription.\n",
    "<img src=\"images/make_reservation_3.png\"/>\n",
    "<img src=\"images/make_reservation_4.png\"/>\n",
    "\n",
    "### Step 2: Launch the RoBox-TurtleBot3 rosject\n",
    "\n",
    "To have the best experience, you need to launch the rosject with the simulation of TurtleBot3. Chances are, if you're reading this, you've already launched it.\n",
    "\n",
    "When **one hour or less** is remaining until your booking session, a warning icon will be shown in **the bottom bar** of The Construct. This means that you have less than an hour to get ready for your session. You will also see the remaining time until your session.\n",
    "\n",
    "<img src=\"images/booking_warnings1.png\"/>\n",
    "\n",
    "In case you are inside a rosject, the icon will appear at the bottom line of icons, like in the following image.\n",
    "\n",
    "<img src=\"images/warning_4.png\"/>\n",
    "\n",
    "The orange dot will turn into a **red dot** when your booking session has started.\n",
    "\n",
    "<img src=\"images/warning_2.png\"/>\n",
    "\n",
    "**Note:** When you are inside your booking, the streaming icon will appear on the desktop inside the rosject:\n",
    "<img src=\"images/stream_icon.png\"/>\n",
    "<img src=\"images/RRL_stream.png\"/>\n",
    "\n",
    "### Step 3: Turn on the RoBoX Connection\n",
    "\n",
    "Once you are inside the rosject and in your **booked time**, a toggle for **turning on the connection** will appear.\n",
    "\n",
    "**WARNING: Nothing will appear unless you have a booking. So, if you didn't make one in the dashboard, feel free to do so.**\n",
    "\n",
    "Now you just have to click on the toggle to connect the desktop environment to the remote lab. This will start the connection process, which lasts for a few seconds. \n",
    "\n",
    "Once the connection process is finished, the **red dot will change to green** if successfully connected. Now **any terminal you open will show the topics and services of the real robot**.\n",
    "\n",
    "<img src=\"images/connect_robox.gif\"/>\n",
    "\n",
    "Now you should be able to do the following command, getting a list of topics similar to this. It could take about 30 seconds to appear:"
   ]
  },
  {
   "cell_type": "code",
   "execution_count": null,
   "metadata": {},
   "outputs": [],
   "source": [
    "ros2 topic list"
   ]
  },
  {
   "cell_type": "markdown",
   "metadata": {},
   "source": [
    "**Note:** Take into account that you **will not be able to push git changes when connected to RoBoX because there is no internet connection.** So, to push any changes to your remote gits, you will have to turn off the connection.\n",
    "\n",
    "You are now connected to the robot! Let's try moving the robot around and seeing the laser and camera in rviz."
   ]
  },
  {
   "cell_type": "markdown",
   "metadata": {},
   "source": [
    "<table style=\"float:left;background: #407EAF\">\n",
    "<tr>\n",
    "<th>\n",
    "<p class=\"transparent\">Execute in WebShell #1</p>\n",
    "</th>\n",
    "</tr>\n",
    "</table>"
   ]
  },
  {
   "cell_type": "markdown",
   "metadata": {},
   "source": [
    "Move the robot around: "
   ]
  },
  {
   "cell_type": "code",
   "execution_count": null,
   "metadata": {},
   "outputs": [],
   "source": [
    "ros2 run teleop_twist_keyboard teleop_twist_keyboard"
   ]
  },
  {
   "cell_type": "markdown",
   "metadata": {},
   "source": [
    "<table style=\"float:left;background: #407EAF\">\n",
    "<tr>\n",
    "<th>\n",
    "<p class=\"transparent\">Execute in WebShell #2</p>\n",
    "</th>\n",
    "</tr>\n",
    "</table>"
   ]
  },
  {
   "cell_type": "code",
   "execution_count": null,
   "metadata": {},
   "outputs": [],
   "source": [
    "rviz2"
   ]
  },
  {
   "cell_type": "markdown",
   "metadata": {},
   "source": [
    "You can then add an image and scan elements in the **base_link** frame, which will look something like this:\n",
    "\n",
    "<img src=\"images/RRL_scan_cam.png\"/>\n"
   ]
  },
  {
   "cell_type": "markdown",
   "metadata": {},
   "source": [
    "## Ready for your programs!\n",
    "\n",
    "If you have reached this point, it means that you have a proper connection with the remote real robot lab. **Now you can launch the programs of your project and see the results on a real robot**."
   ]
  }
 ],
 "metadata": {
  "kernelspec": {
   "display_name": "Python 2",
   "language": "python",
   "name": "python2"
  },
  "language_info": {
   "codemirror_mode": {
    "name": "ipython",
    "version": 2
   },
   "file_extension": ".py",
   "mimetype": "text/x-python",
   "name": "python",
   "nbconvert_exporter": "python",
   "pygments_lexer": "ipython2",
   "version": "2.7.16"
  }
 },
 "nbformat": 4,
 "nbformat_minor": 4
}
